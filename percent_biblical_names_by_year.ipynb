{
 "cells": [
  {
   "cell_type": "code",
   "execution_count": 2,
   "metadata": {},
   "outputs": [],
   "source": [
    "import pandas as pd \n"
   ]
  },
  {
   "cell_type": "code",
   "execution_count": 3,
   "id": "35c7c72c",
   "metadata": {},
   "outputs": [],
   "source": [
    "# Load the CSV files\n",
    "biblical_names = pd.read_csv('Baby_Names_Start/biblical_names.csv')\n",
    "top_five_names_per_state = pd.read_csv('Baby_Names_Start/top_five_names_per_state.csv')\n"
   ]
  },
  {
   "cell_type": "code",
   "execution_count": 4,
   "id": "067d3eb0",
   "metadata": {},
   "outputs": [],
   "source": [
    "# Extract the list of biblical names\n",
    "biblical_names_list = biblical_names['Name'].tolist()"
   ]
  },
  {
   "cell_type": "code",
   "execution_count": 5,
   "id": "f56cd6d0",
   "metadata": {},
   "outputs": [],
   "source": [
    "# Filter the top_five_names_per_state for names that are in the biblical names list\n",
    "filtered_names = top_five_names_per_state[top_five_names_per_state['Name'].isin(biblical_names_list)]"
   ]
  },
  {
   "cell_type": "code",
   "execution_count": 6,
   "id": "15468354",
   "metadata": {},
   "outputs": [],
   "source": [
    "# Group by Year and Name, then count the occurrences\n",
    "biblical_name_counts_per_year = filtered_names.groupby(['Year', 'Name']).size().reset_index(name='Count')"
   ]
  },
  {
   "cell_type": "code",
   "execution_count": 7,
   "id": "a0c0149b",
   "metadata": {},
   "outputs": [
    {
     "data": {
      "text/html": [
       "<div>\n",
       "<style scoped>\n",
       "    .dataframe tbody tr th:only-of-type {\n",
       "        vertical-align: middle;\n",
       "    }\n",
       "\n",
       "    .dataframe tbody tr th {\n",
       "        vertical-align: top;\n",
       "    }\n",
       "\n",
       "    .dataframe thead th {\n",
       "        text-align: right;\n",
       "    }\n",
       "</style>\n",
       "<table border=\"1\" class=\"dataframe\">\n",
       "  <thead>\n",
       "    <tr style=\"text-align: right;\">\n",
       "      <th></th>\n",
       "      <th>Year</th>\n",
       "      <th>Name</th>\n",
       "      <th>Count</th>\n",
       "    </tr>\n",
       "  </thead>\n",
       "  <tbody>\n",
       "    <tr>\n",
       "      <th>0</th>\n",
       "      <td>1910</td>\n",
       "      <td>Anna</td>\n",
       "      <td>9</td>\n",
       "    </tr>\n",
       "    <tr>\n",
       "      <th>1</th>\n",
       "      <td>1910</td>\n",
       "      <td>Edna</td>\n",
       "      <td>1</td>\n",
       "    </tr>\n",
       "    <tr>\n",
       "      <th>2</th>\n",
       "      <td>1911</td>\n",
       "      <td>Anna</td>\n",
       "      <td>5</td>\n",
       "    </tr>\n",
       "    <tr>\n",
       "      <th>3</th>\n",
       "      <td>1912</td>\n",
       "      <td>Anna</td>\n",
       "      <td>6</td>\n",
       "    </tr>\n",
       "    <tr>\n",
       "      <th>4</th>\n",
       "      <td>1913</td>\n",
       "      <td>Anna</td>\n",
       "      <td>5</td>\n",
       "    </tr>\n",
       "    <tr>\n",
       "      <th>5</th>\n",
       "      <td>1914</td>\n",
       "      <td>Anna</td>\n",
       "      <td>5</td>\n",
       "    </tr>\n",
       "    <tr>\n",
       "      <th>6</th>\n",
       "      <td>1915</td>\n",
       "      <td>Anna</td>\n",
       "      <td>7</td>\n",
       "    </tr>\n",
       "    <tr>\n",
       "      <th>7</th>\n",
       "      <td>1916</td>\n",
       "      <td>Andrew</td>\n",
       "      <td>1</td>\n",
       "    </tr>\n",
       "    <tr>\n",
       "      <th>8</th>\n",
       "      <td>1916</td>\n",
       "      <td>Anna</td>\n",
       "      <td>5</td>\n",
       "    </tr>\n",
       "    <tr>\n",
       "      <th>9</th>\n",
       "      <td>1917</td>\n",
       "      <td>Anna</td>\n",
       "      <td>5</td>\n",
       "    </tr>\n",
       "  </tbody>\n",
       "</table>\n",
       "</div>"
      ],
      "text/plain": [
       "   Year    Name  Count\n",
       "0  1910    Anna      9\n",
       "1  1910    Edna      1\n",
       "2  1911    Anna      5\n",
       "3  1912    Anna      6\n",
       "4  1913    Anna      5\n",
       "5  1914    Anna      5\n",
       "6  1915    Anna      7\n",
       "7  1916  Andrew      1\n",
       "8  1916    Anna      5\n",
       "9  1917    Anna      5"
      ]
     },
     "execution_count": 7,
     "metadata": {},
     "output_type": "execute_result"
    }
   ],
   "source": [
    "# Display the result\n",
    "biblical_name_counts_per_year.head(10)"
   ]
  },
  {
   "cell_type": "code",
   "execution_count": 8,
   "id": "9a968100",
   "metadata": {},
   "outputs": [],
   "source": [
    "# Save the results to a new CSV file\n",
    "biblical_name_counts_per_year.to_csv('biblical_name_counts_per_year.csv', index=False)"
   ]
  },
  {
   "cell_type": "code",
   "execution_count": 9,
   "id": "cc002d03",
   "metadata": {},
   "outputs": [],
   "source": [
    "# Calculate the total number of top five names per year\n",
    "total_names_per_year = top_five_names_per_state.groupby('Year').size().reset_index(name='Total_Count')"
   ]
  },
  {
   "cell_type": "code",
   "execution_count": 10,
   "id": "47be4b1c",
   "metadata": {},
   "outputs": [],
   "source": [
    "# Merge the biblical name counts with the total counts\n",
    "merged_data = pd.merge(biblical_name_counts_per_year, total_names_per_year, on='Year')"
   ]
  },
  {
   "cell_type": "code",
   "execution_count": 11,
   "id": "aa4673d8",
   "metadata": {},
   "outputs": [],
   "source": [
    "# Calculate the percentage\n",
    "merged_data['Percentage'] = (merged_data['Count'] / merged_data['Total_Count']) * 100"
   ]
  },
  {
   "cell_type": "code",
   "execution_count": 12,
   "id": "7ad5241e",
   "metadata": {},
   "outputs": [
    {
     "data": {
      "text/html": [
       "<div>\n",
       "<style scoped>\n",
       "    .dataframe tbody tr th:only-of-type {\n",
       "        vertical-align: middle;\n",
       "    }\n",
       "\n",
       "    .dataframe tbody tr th {\n",
       "        vertical-align: top;\n",
       "    }\n",
       "\n",
       "    .dataframe thead th {\n",
       "        text-align: right;\n",
       "    }\n",
       "</style>\n",
       "<table border=\"1\" class=\"dataframe\">\n",
       "  <thead>\n",
       "    <tr style=\"text-align: right;\">\n",
       "      <th></th>\n",
       "      <th>Year</th>\n",
       "      <th>Name</th>\n",
       "      <th>Count</th>\n",
       "      <th>Total_Count</th>\n",
       "      <th>Percentage</th>\n",
       "    </tr>\n",
       "  </thead>\n",
       "  <tbody>\n",
       "    <tr>\n",
       "      <th>0</th>\n",
       "      <td>1910</td>\n",
       "      <td>Anna</td>\n",
       "      <td>9</td>\n",
       "      <td>509</td>\n",
       "      <td>1.768173</td>\n",
       "    </tr>\n",
       "    <tr>\n",
       "      <th>1</th>\n",
       "      <td>1910</td>\n",
       "      <td>Edna</td>\n",
       "      <td>1</td>\n",
       "      <td>509</td>\n",
       "      <td>0.196464</td>\n",
       "    </tr>\n",
       "    <tr>\n",
       "      <th>2</th>\n",
       "      <td>1911</td>\n",
       "      <td>Anna</td>\n",
       "      <td>5</td>\n",
       "      <td>510</td>\n",
       "      <td>0.980392</td>\n",
       "    </tr>\n",
       "    <tr>\n",
       "      <th>3</th>\n",
       "      <td>1912</td>\n",
       "      <td>Anna</td>\n",
       "      <td>6</td>\n",
       "      <td>510</td>\n",
       "      <td>1.176471</td>\n",
       "    </tr>\n",
       "    <tr>\n",
       "      <th>4</th>\n",
       "      <td>1913</td>\n",
       "      <td>Anna</td>\n",
       "      <td>5</td>\n",
       "      <td>510</td>\n",
       "      <td>0.980392</td>\n",
       "    </tr>\n",
       "    <tr>\n",
       "      <th>5</th>\n",
       "      <td>1914</td>\n",
       "      <td>Anna</td>\n",
       "      <td>5</td>\n",
       "      <td>510</td>\n",
       "      <td>0.980392</td>\n",
       "    </tr>\n",
       "    <tr>\n",
       "      <th>6</th>\n",
       "      <td>1915</td>\n",
       "      <td>Anna</td>\n",
       "      <td>7</td>\n",
       "      <td>510</td>\n",
       "      <td>1.372549</td>\n",
       "    </tr>\n",
       "    <tr>\n",
       "      <th>7</th>\n",
       "      <td>1916</td>\n",
       "      <td>Andrew</td>\n",
       "      <td>1</td>\n",
       "      <td>510</td>\n",
       "      <td>0.196078</td>\n",
       "    </tr>\n",
       "    <tr>\n",
       "      <th>8</th>\n",
       "      <td>1916</td>\n",
       "      <td>Anna</td>\n",
       "      <td>5</td>\n",
       "      <td>510</td>\n",
       "      <td>0.980392</td>\n",
       "    </tr>\n",
       "    <tr>\n",
       "      <th>9</th>\n",
       "      <td>1917</td>\n",
       "      <td>Anna</td>\n",
       "      <td>5</td>\n",
       "      <td>510</td>\n",
       "      <td>0.980392</td>\n",
       "    </tr>\n",
       "  </tbody>\n",
       "</table>\n",
       "</div>"
      ],
      "text/plain": [
       "   Year    Name  Count  Total_Count  Percentage\n",
       "0  1910    Anna      9          509    1.768173\n",
       "1  1910    Edna      1          509    0.196464\n",
       "2  1911    Anna      5          510    0.980392\n",
       "3  1912    Anna      6          510    1.176471\n",
       "4  1913    Anna      5          510    0.980392\n",
       "5  1914    Anna      5          510    0.980392\n",
       "6  1915    Anna      7          510    1.372549\n",
       "7  1916  Andrew      1          510    0.196078\n",
       "8  1916    Anna      5          510    0.980392\n",
       "9  1917    Anna      5          510    0.980392"
      ]
     },
     "execution_count": 12,
     "metadata": {},
     "output_type": "execute_result"
    }
   ],
   "source": [
    "# Display the result\n",
    "merged_data.head(10)"
   ]
  },
  {
   "cell_type": "code",
   "execution_count": 13,
   "id": "9f19f4b5",
   "metadata": {},
   "outputs": [],
   "source": [
    "# Save the results to a new CSV file\n",
    "merged_data.to_csv('biblical_name_percentage_per_year.csv', index=False)"
   ]
  }
 ],
 "metadata": {
  "kernelspec": {
   "display_name": "Python 3",
   "language": "python",
   "name": "python3"
  },
  "language_info": {
   "codemirror_mode": {
    "name": "ipython",
    "version": 3
   },
   "file_extension": ".py",
   "mimetype": "text/x-python",
   "name": "python",
   "nbconvert_exporter": "python",
   "pygments_lexer": "ipython3",
   "version": "3.12.4"
  }
 },
 "nbformat": 4,
 "nbformat_minor": 5
}
